{
 "cells": [
  {
   "cell_type": "code",
   "execution_count": null,
   "metadata": {},
   "outputs": [],
   "source": [
    "import numpy as np\n",
    "import pandas as pd\n",
    "import matplotlib.pyplot as plt\n",
    "from sklearn.decomposition import PCA\n",
    "from sklearn.cluster import SpectralClustering, AgglomerativeClustering\n",
    "from sklearn.metrics import silhouette_score\n",
    "from sklearn.metrics import davies_bouldin_score\n",
    "from sklearn import metrics\n",
    "from sklearn.metrics import pairwise_distances"
   ]
  },
  {
   "cell_type": "code",
   "execution_count": null,
   "metadata": {},
   "outputs": [],
   "source": [
    "variance = pd.read_csv('')\n",
    "variance = pd.DataFrame(variance)"
   ]
  },
  {
   "cell_type": "code",
   "execution_count": null,
   "metadata": {},
   "outputs": [],
   "source": [
    "embeddings = np.array(variance)"
   ]
  },
  {
   "cell_type": "code",
   "execution_count": null,
   "metadata": {},
   "outputs": [],
   "source": [
    "pca = PCA(n_components=2)\n",
    "embedding1 = pca.fit_transform(embeddings)"
   ]
  },
  {
   "cell_type": "code",
   "execution_count": null,
   "metadata": {},
   "outputs": [],
   "source": [
    "embedding = pd.DataFrame({\n",
    "    'x': embedding1[:, 0],\n",
    "    'y': embedding1[:, 1]\n",
    "})"
   ]
  },
  {
   "cell_type": "code",
   "execution_count": null,
   "metadata": {},
   "outputs": [],
   "source": [
    "\n",
    "f, axes = plt.subplots(1, 9, sharex=True, sharey=True)\n",
    "f.set_size_inches((30, 4)) \n",
    "\n",
    "# spectral clustering and scattering\n",
    "eCluNums0 = SpectralClustering(n_clusters=2, n_init=10).fit_predict(embedding[['x','y']])\n",
    "axes[0].scatter(list(embedding['x']), list(embedding['y']), c=eCluNums0, cmap=plt.cm.rainbow, alpha=0.3)\n",
    "axes[0].set_title(\"Spectral Clustering\")\n",
    "\n",
    "# spectral clustering and scattering\n",
    "eCluNums = SpectralClustering(n_clusters=3, n_init=10).fit_predict(embedding[['x','y']])\n",
    "axes[1].scatter(list(embedding['x']), list(embedding['y']), c=eCluNums, cmap=plt.cm.rainbow, alpha=0.3)\n",
    "axes[1].set_title(\"Spectral Clustering\")\n",
    "\n",
    "# spectral clustering and scattering\n",
    "eCluNums1 = SpectralClustering(n_clusters=4, n_init=10).fit_predict(embedding[['x','y']])\n",
    "axes[2].scatter(list(embedding['x']), list(embedding['y']), c=eCluNums1, cmap=plt.cm.rainbow, alpha=0.3)\n",
    "axes[2].set_title(\"Spectral Clustering\")\n",
    "\n",
    "# spectral clustering and scattering\n",
    "eCluNums2 = SpectralClustering(n_clusters=5, n_init=10).fit_predict(embedding[['x','y']])\n",
    "axes[3].scatter(list(embedding['x']), list(embedding['y']), c=eCluNums2, cmap=plt.cm.rainbow, alpha=0.3)\n",
    "axes[3].set_title(\"Spectral Clustering\")\n",
    "\n",
    "plt.show()"
   ]
  },
  {
   "cell_type": "code",
   "execution_count": null,
   "metadata": {},
   "outputs": [],
   "source": [
    "#calculating silhouette_score\n",
    "sil_2 = metrics.silhouette_score(embedding[['x','y']], eCluNums0, metric='euclidean')\n",
    "sil_3 = metrics.silhouette_score(embedding[['x','y']], eCluNums, metric='euclidean')\n",
    "sil_4 = metrics.silhouette_score(embedding[['x','y']], eCluNums1, metric='euclidean')\n",
    "sil_5 = metrics.silhouette_score(embedding[['x','y']], eCluNums2, metric='euclidean')\n",
    "\n",
    "score1 = np.stack((sil_2, sil_3,sil_4,sil_5))\n",
    "score1"
   ]
  },
  {
   "cell_type": "code",
   "execution_count": null,
   "metadata": {},
   "outputs": [],
   "source": [
    "#calculating davies_bouldin_score\n",
    "dav_2 = davies_bouldin_score(embedding[['x','y']], eCluNums0)\n",
    "dav_3 = davies_bouldin_score(embedding[['x','y']], eCluNums)\n",
    "dav_4 = davies_bouldin_score(embedding[['x','y']], eCluNums1)\n",
    "dav_5 = davies_bouldin_score(embedding[['x','y']], eCluNums2)\n",
    "\n",
    "\n",
    "score = np.stack((dav_2, dav_3,dav_4,dav_5))\n",
    "score"
   ]
  }
 ],
 "metadata": {
  "language_info": {
   "name": "python"
  }
 },
 "nbformat": 4,
 "nbformat_minor": 2
}
